{
 "cells": [
  {
   "cell_type": "code",
   "execution_count": null,
   "id": "7b3e7031",
   "metadata": {},
   "outputs": [],
   "source": [
    "!pip install ChatterBot"
   ]
  },
  {
   "cell_type": "code",
   "execution_count": 2,
   "id": "7a32f885",
   "metadata": {},
   "outputs": [
    {
     "ename": "ModuleNotFoundError",
     "evalue": "No module named 'chatterbot'",
     "output_type": "error",
     "traceback": [
      "\u001b[1;31m---------------------------------------------------------------------------\u001b[0m",
      "\u001b[1;31mModuleNotFoundError\u001b[0m                       Traceback (most recent call last)",
      "\u001b[1;32m~\\AppData\\Local\\Temp/ipykernel_5668/2218302709.py\u001b[0m in \u001b[0;36m<module>\u001b[1;34m\u001b[0m\n\u001b[0;32m      1\u001b[0m \u001b[1;31m#Importing modules\u001b[0m\u001b[1;33m\u001b[0m\u001b[1;33m\u001b[0m\u001b[1;33m\u001b[0m\u001b[0m\n\u001b[1;32m----> 2\u001b[1;33m \u001b[1;32mfrom\u001b[0m \u001b[0mchatterbot\u001b[0m \u001b[1;32mimport\u001b[0m \u001b[0mChatBot\u001b[0m\u001b[1;33m\u001b[0m\u001b[1;33m\u001b[0m\u001b[0m\n\u001b[0m\u001b[0;32m      3\u001b[0m \u001b[1;32mfrom\u001b[0m \u001b[0mchatterbot\u001b[0m\u001b[1;33m.\u001b[0m\u001b[0mtrainers\u001b[0m \u001b[1;32mimport\u001b[0m \u001b[0mListTrainer\u001b[0m\u001b[1;33m\u001b[0m\u001b[1;33m\u001b[0m\u001b[0m\n\u001b[0;32m      4\u001b[0m \u001b[1;32mfrom\u001b[0m \u001b[0mchatterbot\u001b[0m\u001b[1;33m.\u001b[0m\u001b[0mtrainers\u001b[0m \u001b[1;32mimport\u001b[0m \u001b[0mChatterBotCorpusTrainer\u001b[0m\u001b[1;33m\u001b[0m\u001b[1;33m\u001b[0m\u001b[0m\n",
      "\u001b[1;31mModuleNotFoundError\u001b[0m: No module named 'chatterbot'"
     ]
    }
   ],
   "source": [
    "#Importing modules\n",
    "from chatterbot import ChatBot\n",
    "from chatterbot.trainers import ListTrainer\n",
    "from chatterbot.trainers import ChatterBotCorpusTrainer"
   ]
  },
  {
   "cell_type": "code",
   "execution_count": null,
   "id": "a22e4cd6",
   "metadata": {},
   "outputs": [],
   "source": [
    "BankBot = ChatBot(name = 'BankBot',\n",
    "                  read_only = False,                  \n",
    "                  logic_adapters = [\"chatterbot.logic.BestMatch\"],                 \n",
    "                  storage_adapter = \"chatterbot.storage.SQLStorageAdapter\")"
   ]
  },
  {
   "cell_type": "code",
   "execution_count": null,
   "id": "538d6200",
   "metadata": {},
   "outputs": [],
   "source": [
    "corpus_trainer = ChatterBotCorpusTrainer(BankBot)\n",
    "corpus_trainer.train(\"chatterbot.corpus.english\")"
   ]
  },
  {
   "cell_type": "code",
   "execution_count": null,
   "id": "41aa6373",
   "metadata": {},
   "outputs": [],
   "source": [
    "greet_conversation = [\n",
    "    \"Hello\",\n",
    "    \"Hi there!\",\n",
    "    \"How are you doing?\",\n",
    "    \"I'm doing great.\",\n",
    "    \"That is good to hear\",\n",
    "    \"Thank you.\",\n",
    "    \"You're welcome.\"\n",
    "]\n",
    " \n",
    "open_timings_conversation = [\n",
    "    \"What time does the Bank open?\",\n",
    "    \"The Bank opens at 9AM\",\n",
    "]\n",
    " \n",
    "close_timings_conversation = [\n",
    "    \"What time does the Bank close?\",\n",
    "    \"The Bank closes at 5PM\",\n",
    "]\n",
    "\n",
    "#Initializing Trainer Object\n",
    "trainer = ListTrainer(BankBot)\n",
    "\n",
    "#Training BankBot\n",
    "trainer.train(greet_conversation)\n",
    "trainer.train(open_timings_conversation)\n",
    "trainer.train(close_timings_conversation)"
   ]
  },
  {
   "cell_type": "code",
   "execution_count": null,
   "id": "a53859c8",
   "metadata": {},
   "outputs": [],
   "source": [
    "while (True):\n",
    "    user_input = input()\n",
    "    if (user_input == 'quit'):\n",
    "        break\n",
    "    response = BankBot.get_response(user_input)\n",
    "    print (response)"
   ]
  }
 ],
 "metadata": {
  "kernelspec": {
   "display_name": "Python 3 (ipykernel)",
   "language": "python",
   "name": "python3"
  },
  "language_info": {
   "codemirror_mode": {
    "name": "ipython",
    "version": 3
   },
   "file_extension": ".py",
   "mimetype": "text/x-python",
   "name": "python",
   "nbconvert_exporter": "python",
   "pygments_lexer": "ipython3",
   "version": "3.8.10"
  }
 },
 "nbformat": 4,
 "nbformat_minor": 5
}
