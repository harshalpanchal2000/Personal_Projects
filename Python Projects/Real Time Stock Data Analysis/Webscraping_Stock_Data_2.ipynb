{
  "cells": [
    {
      "metadata": {
        "id": "64-VDbIyILPN"
      },
      "cell_type": "markdown",
      "source": [
        "<h1>Extracting and Visualizing Stock Data</h1>\n",
        "<h2>Description</h2>\n"
      ]
    },
    {
      "metadata": {
        "id": "PWxB-3_EILPP"
      },
      "cell_type": "markdown",
      "source": [
        "Extracting essential data from a dataset and displaying it is a necessary part of data science; therefore individuals can make correct decisions based on the data. In this assignment, I extracted some stock data, and then visualized this data in a graph.\n"
      ]
    },
    {
      "metadata": {
        "id": "t7Vkj--nILPQ"
      },
      "cell_type": "markdown",
      "source": [
        "<h2>Table of Contents</h2>\n",
        "<div class=\"alert alert-block alert-info\" style=\"margin-top: 20px\">\n",
        "    <ul>\n",
        "        <li>Define a Function that Makes a Graph</li>\n",
        "        <li>Question 1: Use yfinance to Extract Stock Data</li>\n",
        "        <li>Question 2: Use Webscraping to Extract Tesla Revenue Data</li>\n",
        "        <li>Question 3: Use yfinance to Extract Stock Data</li>\n",
        "        <li>Question 4: Use Webscraping to Extract GME Revenue Data</li>\n",
        "        <li>Question 5: Plot Tesla Stock Graph</li>\n",
        "        <li>Question 6: Plot GameStop Stock Graph</li>\n",
        "    </ul>\n",
        "<p>\n",
        "</div>\n",
        "\n",
        "<hr>\n"
      ]
    },
    {
      "metadata": {
        "colab": {
          "base_uri": "https://localhost:8080/"
        },
        "id": "wGpMvigOILPS",
        "outputId": "0b144d03-2bd1-46c1-a2a7-5f5d21509a2a"
      },
      "cell_type": "code",
      "source": [
        "!pip install yfinance\n",
        "!pip install pandas\n",
        "!pip install requests\n",
        "!pip install bs4\n",
        "!pip install plotly"
      ],
      "execution_count": 3,
      "outputs": [
        {
          "output_type": "stream",
          "name": "stdout",
          "text": [
            "Collecting yfinance\n",
            "  Downloading yfinance-0.1.68-py2.py3-none-any.whl (26 kB)\n",
            "Requirement already satisfied: multitasking>=0.0.7 in /usr/local/lib/python3.7/dist-packages (from yfinance) (0.0.10)\n",
            "Collecting requests>=2.26\n",
            "  Downloading requests-2.27.1-py2.py3-none-any.whl (63 kB)\n",
            "\u001b[K     |████████████████████████████████| 63 kB 1.2 MB/s \n",
            "\u001b[?25hCollecting lxml>=4.5.1\n",
            "  Downloading lxml-4.7.1-cp37-cp37m-manylinux_2_17_x86_64.manylinux2014_x86_64.manylinux_2_24_x86_64.whl (6.4 MB)\n",
            "\u001b[K     |████████████████████████████████| 6.4 MB 11.3 MB/s \n",
            "\u001b[?25hRequirement already satisfied: numpy>=1.15 in /usr/local/lib/python3.7/dist-packages (from yfinance) (1.19.5)\n",
            "Requirement already satisfied: pandas>=0.24 in /usr/local/lib/python3.7/dist-packages (from yfinance) (1.1.5)\n",
            "Requirement already satisfied: pytz>=2017.2 in /usr/local/lib/python3.7/dist-packages (from pandas>=0.24->yfinance) (2018.9)\n",
            "Requirement already satisfied: python-dateutil>=2.7.3 in /usr/local/lib/python3.7/dist-packages (from pandas>=0.24->yfinance) (2.8.2)\n",
            "Requirement already satisfied: six>=1.5 in /usr/local/lib/python3.7/dist-packages (from python-dateutil>=2.7.3->pandas>=0.24->yfinance) (1.15.0)\n",
            "Requirement already satisfied: idna<4,>=2.5 in /usr/local/lib/python3.7/dist-packages (from requests>=2.26->yfinance) (2.10)\n",
            "Requirement already satisfied: urllib3<1.27,>=1.21.1 in /usr/local/lib/python3.7/dist-packages (from requests>=2.26->yfinance) (1.24.3)\n",
            "Requirement already satisfied: certifi>=2017.4.17 in /usr/local/lib/python3.7/dist-packages (from requests>=2.26->yfinance) (2021.10.8)\n",
            "Requirement already satisfied: charset-normalizer~=2.0.0 in /usr/local/lib/python3.7/dist-packages (from requests>=2.26->yfinance) (2.0.10)\n",
            "Installing collected packages: requests, lxml, yfinance\n",
            "  Attempting uninstall: requests\n",
            "    Found existing installation: requests 2.23.0\n",
            "    Uninstalling requests-2.23.0:\n",
            "      Successfully uninstalled requests-2.23.0\n",
            "  Attempting uninstall: lxml\n",
            "    Found existing installation: lxml 4.2.6\n",
            "    Uninstalling lxml-4.2.6:\n",
            "      Successfully uninstalled lxml-4.2.6\n",
            "\u001b[31mERROR: pip's dependency resolver does not currently take into account all the packages that are installed. This behaviour is the source of the following dependency conflicts.\n",
            "google-colab 1.0.0 requires requests~=2.23.0, but you have requests 2.27.1 which is incompatible.\n",
            "datascience 0.10.6 requires folium==0.2.1, but you have folium 0.8.3 which is incompatible.\u001b[0m\n",
            "Successfully installed lxml-4.7.1 requests-2.27.1 yfinance-0.1.68\n",
            "Requirement already satisfied: pandas in /usr/local/lib/python3.7/dist-packages (1.1.5)\n",
            "Requirement already satisfied: numpy>=1.15.4 in /usr/local/lib/python3.7/dist-packages (from pandas) (1.19.5)\n",
            "Requirement already satisfied: pytz>=2017.2 in /usr/local/lib/python3.7/dist-packages (from pandas) (2018.9)\n",
            "Requirement already satisfied: python-dateutil>=2.7.3 in /usr/local/lib/python3.7/dist-packages (from pandas) (2.8.2)\n",
            "Requirement already satisfied: six>=1.5 in /usr/local/lib/python3.7/dist-packages (from python-dateutil>=2.7.3->pandas) (1.15.0)\n",
            "Requirement already satisfied: requests in /usr/local/lib/python3.7/dist-packages (2.27.1)\n",
            "Requirement already satisfied: urllib3<1.27,>=1.21.1 in /usr/local/lib/python3.7/dist-packages (from requests) (1.24.3)\n",
            "Requirement already satisfied: certifi>=2017.4.17 in /usr/local/lib/python3.7/dist-packages (from requests) (2021.10.8)\n",
            "Requirement already satisfied: idna<4,>=2.5 in /usr/local/lib/python3.7/dist-packages (from requests) (2.10)\n",
            "Requirement already satisfied: charset-normalizer~=2.0.0 in /usr/local/lib/python3.7/dist-packages (from requests) (2.0.10)\n",
            "Requirement already satisfied: bs4 in /usr/local/lib/python3.7/dist-packages (0.0.1)\n",
            "Requirement already satisfied: beautifulsoup4 in /usr/local/lib/python3.7/dist-packages (from bs4) (4.6.3)\n",
            "Requirement already satisfied: plotly in /usr/local/lib/python3.7/dist-packages (4.4.1)\n",
            "Requirement already satisfied: six in /usr/local/lib/python3.7/dist-packages (from plotly) (1.15.0)\n",
            "Requirement already satisfied: retrying>=1.3.3 in /usr/local/lib/python3.7/dist-packages (from plotly) (1.3.3)\n"
          ]
        }
      ]
    },
    {
      "metadata": {
        "id": "35a00nydILPW"
      },
      "cell_type": "code",
      "source": [
        "import yfinance as yf\n",
        "import pandas as pd\n",
        "import requests\n",
        "from bs4 import BeautifulSoup\n",
        "import plotly.graph_objects as go\n",
        "from plotly.subplots import make_subplots"
      ],
      "execution_count": null,
      "outputs": []
    },
    {
      "metadata": {
        "id": "ytKBYIHXILPY"
      },
      "cell_type": "markdown",
      "source": [
        "## Define Graphing Function\n"
      ]
    },
    {
      "metadata": {
        "id": "pYbpC2tAILPb"
      },
      "cell_type": "markdown",
      "source": [
        "In this section, we define the function `make_graph`. You don't have to know how the function works, you should only care about the inputs. It takes a dataframe with stock data (dataframe must contain Date and Close columns), a dataframe with revenue data (dataframe must contain Date and Revenue columns), and the name of the stock.\n"
      ]
    },
    {
      "metadata": {
        "id": "7JULQKw0ILPd"
      },
      "cell_type": "code",
      "source": [
        "def make_graph(stock_data, revenue_data, stock):\n",
        "    fig = make_subplots(rows=2, cols=1, shared_xaxes=True, subplot_titles=(\"Historical Share Price\", \"Historical Revenue\"), vertical_spacing = .3)\n",
        "    stock_data_specific = stock_data[stock_data.Date <= '2021--06-14']\n",
        "    revenue_data_specific = revenue_data[revenue_data.Date <= '2021-04-30']\n",
        "    fig.add_trace(go.Scatter(x=pd.to_datetime(stock_data_specific.Date, infer_datetime_format=True), y=stock_data_specific.Close.astype(\"float\"), name=\"Share Price\"), row=1, col=1)\n",
        "    fig.add_trace(go.Scatter(x=pd.to_datetime(revenue_data_specific.Date, infer_datetime_format=True), y=revenue_data_specific.Revenue.astype(\"float\"), name=\"Revenue\"), row=2, col=1)\n",
        "    fig.update_xaxes(title_text=\"Date\", row=1, col=1)\n",
        "    fig.update_xaxes(title_text=\"Date\", row=2, col=1)\n",
        "    fig.update_yaxes(title_text=\"Price ($US)\", row=1, col=1)\n",
        "    fig.update_yaxes(title_text=\"Revenue ($US Millions)\", row=2, col=1)\n",
        "    fig.update_layout(showlegend=False,\n",
        "    height=900,\n",
        "    title=stock,\n",
        "    xaxis_rangeslider_visible=True)\n",
        "    fig.show()"
      ],
      "execution_count": null,
      "outputs": []
    },
    {
      "metadata": {
        "id": "dC_UNPv4ILPf"
      },
      "cell_type": "markdown",
      "source": [
        "## Question 1: Use yfinance to Extract Stock Data\n"
      ]
    },
    {
      "metadata": {
        "id": "bSTIRBvfILPg"
      },
      "cell_type": "markdown",
      "source": [
        "Using the `Ticker` function enter the ticker symbol of the stock we want to extract data on to create a ticker object. The stock is Tesla and its ticker symbol is `TSLA`.\n"
      ]
    },
    {
      "metadata": {
        "id": "ntzRCrlPILPh"
      },
      "cell_type": "code",
      "source": [
        "tesla=yf.Ticker(\"TSLA\")"
      ],
      "execution_count": null,
      "outputs": []
    },
    {
      "metadata": {
        "id": "NzGeVJotILPi"
      },
      "cell_type": "markdown",
      "source": [
        "Using the ticker object and the function `history` extract stock information and save it in a dataframe named `tesla_data`. Set the `period` parameter to `max` so we get information for the maximum amount of time.\n"
      ]
    },
    {
      "metadata": {
        "id": "IdIUVSOGILPj",
        "outputId": "f7195fd6-66a6-496c-c622-49c383457fc8"
      },
      "cell_type": "code",
      "source": [
        "tesla_data=tesla.history(period='max')\n",
        "tesla_data"
      ],
      "execution_count": null,
      "outputs": [
        {
          "output_type": "execute_result",
          "execution_count": 8,
          "data": {
            "text/plain": "                  Open        High         Low       Close    Volume  \\\nDate                                                                   \n2010-06-29    3.800000    5.000000    3.508000    4.778000  93831500   \n2010-06-30    5.158000    6.084000    4.660000    4.766000  85935500   \n2010-07-01    5.000000    5.184000    4.054000    4.392000  41094000   \n2010-07-02    4.600000    4.620000    3.742000    3.840000  25699000   \n2010-07-06    4.000000    4.000000    3.166000    3.222000  34334500   \n...                ...         ...         ...         ...       ...   \n2021-09-27  773.119995  799.000000  769.309998  791.359985  28070700   \n2021-09-28  787.200012  795.640015  766.179993  777.559998  25381400   \n2021-09-29  779.799988  793.500000  770.679993  781.309998  20942900   \n2021-09-30  781.000000  789.130005  775.000000  775.479980  17956000   \n2021-10-01  778.400024  780.780029  763.590027  775.219971  17031414   \n\n            Dividends  Stock Splits  \nDate                                 \n2010-06-29          0           0.0  \n2010-06-30          0           0.0  \n2010-07-01          0           0.0  \n2010-07-02          0           0.0  \n2010-07-06          0           0.0  \n...               ...           ...  \n2021-09-27          0           0.0  \n2021-09-28          0           0.0  \n2021-09-29          0           0.0  \n2021-09-30          0           0.0  \n2021-10-01          0           0.0  \n\n[2836 rows x 7 columns]",
            "text/html": "<div>\n<style scoped>\n    .dataframe tbody tr th:only-of-type {\n        vertical-align: middle;\n    }\n\n    .dataframe tbody tr th {\n        vertical-align: top;\n    }\n\n    .dataframe thead th {\n        text-align: right;\n    }\n</style>\n<table border=\"1\" class=\"dataframe\">\n  <thead>\n    <tr style=\"text-align: right;\">\n      <th></th>\n      <th>Open</th>\n      <th>High</th>\n      <th>Low</th>\n      <th>Close</th>\n      <th>Volume</th>\n      <th>Dividends</th>\n      <th>Stock Splits</th>\n    </tr>\n    <tr>\n      <th>Date</th>\n      <th></th>\n      <th></th>\n      <th></th>\n      <th></th>\n      <th></th>\n      <th></th>\n      <th></th>\n    </tr>\n  </thead>\n  <tbody>\n    <tr>\n      <th>2010-06-29</th>\n      <td>3.800000</td>\n      <td>5.000000</td>\n      <td>3.508000</td>\n      <td>4.778000</td>\n      <td>93831500</td>\n      <td>0</td>\n      <td>0.0</td>\n    </tr>\n    <tr>\n      <th>2010-06-30</th>\n      <td>5.158000</td>\n      <td>6.084000</td>\n      <td>4.660000</td>\n      <td>4.766000</td>\n      <td>85935500</td>\n      <td>0</td>\n      <td>0.0</td>\n    </tr>\n    <tr>\n      <th>2010-07-01</th>\n      <td>5.000000</td>\n      <td>5.184000</td>\n      <td>4.054000</td>\n      <td>4.392000</td>\n      <td>41094000</td>\n      <td>0</td>\n      <td>0.0</td>\n    </tr>\n    <tr>\n      <th>2010-07-02</th>\n      <td>4.600000</td>\n      <td>4.620000</td>\n      <td>3.742000</td>\n      <td>3.840000</td>\n      <td>25699000</td>\n      <td>0</td>\n      <td>0.0</td>\n    </tr>\n    <tr>\n      <th>2010-07-06</th>\n      <td>4.000000</td>\n      <td>4.000000</td>\n      <td>3.166000</td>\n      <td>3.222000</td>\n      <td>34334500</td>\n      <td>0</td>\n      <td>0.0</td>\n    </tr>\n    <tr>\n      <th>...</th>\n      <td>...</td>\n      <td>...</td>\n      <td>...</td>\n      <td>...</td>\n      <td>...</td>\n      <td>...</td>\n      <td>...</td>\n    </tr>\n    <tr>\n      <th>2021-09-27</th>\n      <td>773.119995</td>\n      <td>799.000000</td>\n      <td>769.309998</td>\n      <td>791.359985</td>\n      <td>28070700</td>\n      <td>0</td>\n      <td>0.0</td>\n    </tr>\n    <tr>\n      <th>2021-09-28</th>\n      <td>787.200012</td>\n      <td>795.640015</td>\n      <td>766.179993</td>\n      <td>777.559998</td>\n      <td>25381400</td>\n      <td>0</td>\n      <td>0.0</td>\n    </tr>\n    <tr>\n      <th>2021-09-29</th>\n      <td>779.799988</td>\n      <td>793.500000</td>\n      <td>770.679993</td>\n      <td>781.309998</td>\n      <td>20942900</td>\n      <td>0</td>\n      <td>0.0</td>\n    </tr>\n    <tr>\n      <th>2021-09-30</th>\n      <td>781.000000</td>\n      <td>789.130005</td>\n      <td>775.000000</td>\n      <td>775.479980</td>\n      <td>17956000</td>\n      <td>0</td>\n      <td>0.0</td>\n    </tr>\n    <tr>\n      <th>2021-10-01</th>\n      <td>778.400024</td>\n      <td>780.780029</td>\n      <td>763.590027</td>\n      <td>775.219971</td>\n      <td>17031414</td>\n      <td>0</td>\n      <td>0.0</td>\n    </tr>\n  </tbody>\n</table>\n<p>2836 rows × 7 columns</p>\n</div>"
          },
          "metadata": {}
        }
      ]
    },
    {
      "metadata": {
        "id": "pNVvU-LDILPk"
      },
      "cell_type": "markdown",
      "source": [
        "**Reset the index** using the `reset_index(inplace=True)` function on the tesla_data DataFrame and display the first five rows of the `tesla_data` dataframe using the `head` function. Take a screenshot of the results and code from the beginning of Question 1 to the results below.\n"
      ]
    },
    {
      "metadata": {
        "id": "AzuV7d9CILPk",
        "outputId": "e12c301f-5a62-44ff-c6d3-13882cb0fdd0"
      },
      "cell_type": "code",
      "source": [
        "tesla_data.reset_index(inplace=True)\n",
        "tesla_data.head()"
      ],
      "execution_count": null,
      "outputs": [
        {
          "output_type": "execute_result",
          "execution_count": 9,
          "data": {
            "text/plain": "        Date   Open   High    Low  Close    Volume  Dividends  Stock Splits\n0 2010-06-29  3.800  5.000  3.508  4.778  93831500          0           0.0\n1 2010-06-30  5.158  6.084  4.660  4.766  85935500          0           0.0\n2 2010-07-01  5.000  5.184  4.054  4.392  41094000          0           0.0\n3 2010-07-02  4.600  4.620  3.742  3.840  25699000          0           0.0\n4 2010-07-06  4.000  4.000  3.166  3.222  34334500          0           0.0",
            "text/html": "<div>\n<style scoped>\n    .dataframe tbody tr th:only-of-type {\n        vertical-align: middle;\n    }\n\n    .dataframe tbody tr th {\n        vertical-align: top;\n    }\n\n    .dataframe thead th {\n        text-align: right;\n    }\n</style>\n<table border=\"1\" class=\"dataframe\">\n  <thead>\n    <tr style=\"text-align: right;\">\n      <th></th>\n      <th>Date</th>\n      <th>Open</th>\n      <th>High</th>\n      <th>Low</th>\n      <th>Close</th>\n      <th>Volume</th>\n      <th>Dividends</th>\n      <th>Stock Splits</th>\n    </tr>\n  </thead>\n  <tbody>\n    <tr>\n      <th>0</th>\n      <td>2010-06-29</td>\n      <td>3.800</td>\n      <td>5.000</td>\n      <td>3.508</td>\n      <td>4.778</td>\n      <td>93831500</td>\n      <td>0</td>\n      <td>0.0</td>\n    </tr>\n    <tr>\n      <th>1</th>\n      <td>2010-06-30</td>\n      <td>5.158</td>\n      <td>6.084</td>\n      <td>4.660</td>\n      <td>4.766</td>\n      <td>85935500</td>\n      <td>0</td>\n      <td>0.0</td>\n    </tr>\n    <tr>\n      <th>2</th>\n      <td>2010-07-01</td>\n      <td>5.000</td>\n      <td>5.184</td>\n      <td>4.054</td>\n      <td>4.392</td>\n      <td>41094000</td>\n      <td>0</td>\n      <td>0.0</td>\n    </tr>\n    <tr>\n      <th>3</th>\n      <td>2010-07-02</td>\n      <td>4.600</td>\n      <td>4.620</td>\n      <td>3.742</td>\n      <td>3.840</td>\n      <td>25699000</td>\n      <td>0</td>\n      <td>0.0</td>\n    </tr>\n    <tr>\n      <th>4</th>\n      <td>2010-07-06</td>\n      <td>4.000</td>\n      <td>4.000</td>\n      <td>3.166</td>\n      <td>3.222</td>\n      <td>34334500</td>\n      <td>0</td>\n      <td>0.0</td>\n    </tr>\n  </tbody>\n</table>\n</div>"
          },
          "metadata": {}
        }
      ]
    },
    {
      "metadata": {
        "id": "24C-rTiuILPl"
      },
      "cell_type": "markdown",
      "source": [
        "## Question 2: Use Webscraping to Extract Tesla Revenue Data\n"
      ]
    },
    {
      "metadata": {
        "id": "dwanLb5mILPm"
      },
      "cell_type": "markdown",
      "source": [
        "Use the `requests` library to download the webpage [https://www.macrotrends.net/stocks/charts/TSLA/tesla/revenue](https://www.macrotrends.net/stocks/charts/TSLA/tesla/revenue?utm_medium=Exinfluencer&utm_source=Exinfluencer&utm_content=000026UJ&utm_term=10006555&utm_id=NA-SkillsNetwork-Channel-SkillsNetworkCoursesIBMDeveloperSkillsNetworkPY0220ENSkillsNetwork23455606-2021-01-01). Save the text of the response as a variable named `html_data`.\n"
      ]
    },
    {
      "metadata": {
        "id": "Hhx3eFCxILPm"
      },
      "cell_type": "code",
      "source": [
        "url=\"https://www.macrotrends.net/stocks/charts/TSLA/tesla/revenue.\"\n",
        "html_data=requests.get(url).text\n"
      ],
      "execution_count": null,
      "outputs": []
    },
    {
      "metadata": {
        "id": "85lzWjKoILPn"
      },
      "cell_type": "markdown",
      "source": [
        "Parse the html data using `beautiful_soup`.\n"
      ]
    },
    {
      "metadata": {
        "id": "mxF5KDiFILPo"
      },
      "cell_type": "code",
      "source": [
        "soup=BeautifulSoup(html_data,'lxml')"
      ],
      "execution_count": null,
      "outputs": []
    },
    {
      "metadata": {
        "id": "pCvHBiUFILPp"
      },
      "cell_type": "markdown",
      "source": [
        "Using `BeautifulSoup` or the `read_html` function extract the table with `Tesla Quarterly Revenue` and store it into a dataframe named `tesla_revenue`. The dataframe should have columns `Date` and `Revenue`.\n"
      ]
    },
    {
      "metadata": {
        "id": "1cm9PcmFILPp"
      },
      "cell_type": "markdown",
      "source": [
        "<details><summary>Click here if you need help locating the table</summary>\n",
        "\n",
        "```\n",
        "    \n",
        "Below is the code to isolate the table, you will now need to loop through the rows and columns like in the previous lab\n",
        "    \n",
        "soup.find_all(\"tbody\")[1]\n",
        "    \n",
        "If you want to use the read_html function the table is located at index 1\n",
        "\n",
        "\n",
        "```\n",
        "\n",
        "</details>\n"
      ]
    },
    {
      "metadata": {
        "id": "6foL4yElILPq",
        "outputId": "45476da5-88c5-46bd-9158-1b5412c33887"
      },
      "cell_type": "code",
      "source": [
        "tesla_revenue = pd.DataFrame(columns=[\"Date\",\"Revenue\"])\n",
        "\n",
        "# First we isolate the body of the table which contains all the information\n",
        "# Then we loop through each row and find all the column values for each row\n",
        "for row in soup.find(\"tbody\").find_all('tr'):\n",
        "    col = row.find_all(\"td\")\n",
        "    date = col[0].text\n",
        "    revenue =col[1].text\n",
        "  \n",
        "    \n",
        "    # Finally we append the data of each row to the table\n",
        "    tesla_revenue = tesla_revenue.append({\"Date\":date,\"Revenue\":revenue}, ignore_index=True)\n",
        "tesla_revenue"
      ],
      "execution_count": null,
      "outputs": [
        {
          "output_type": "execute_result",
          "execution_count": 12,
          "data": {
            "text/plain": "    Date  Revenue\n0   2020  $31,536\n1   2019  $24,578\n2   2018  $21,461\n3   2017  $11,759\n4   2016   $7,000\n5   2015   $4,046\n6   2014   $3,198\n7   2013   $2,013\n8   2012     $413\n9   2011     $204\n10  2010     $117\n11  2009     $112\n12  2008      $15",
            "text/html": "<div>\n<style scoped>\n    .dataframe tbody tr th:only-of-type {\n        vertical-align: middle;\n    }\n\n    .dataframe tbody tr th {\n        vertical-align: top;\n    }\n\n    .dataframe thead th {\n        text-align: right;\n    }\n</style>\n<table border=\"1\" class=\"dataframe\">\n  <thead>\n    <tr style=\"text-align: right;\">\n      <th></th>\n      <th>Date</th>\n      <th>Revenue</th>\n    </tr>\n  </thead>\n  <tbody>\n    <tr>\n      <th>0</th>\n      <td>2020</td>\n      <td>$31,536</td>\n    </tr>\n    <tr>\n      <th>1</th>\n      <td>2019</td>\n      <td>$24,578</td>\n    </tr>\n    <tr>\n      <th>2</th>\n      <td>2018</td>\n      <td>$21,461</td>\n    </tr>\n    <tr>\n      <th>3</th>\n      <td>2017</td>\n      <td>$11,759</td>\n    </tr>\n    <tr>\n      <th>4</th>\n      <td>2016</td>\n      <td>$7,000</td>\n    </tr>\n    <tr>\n      <th>5</th>\n      <td>2015</td>\n      <td>$4,046</td>\n    </tr>\n    <tr>\n      <th>6</th>\n      <td>2014</td>\n      <td>$3,198</td>\n    </tr>\n    <tr>\n      <th>7</th>\n      <td>2013</td>\n      <td>$2,013</td>\n    </tr>\n    <tr>\n      <th>8</th>\n      <td>2012</td>\n      <td>$413</td>\n    </tr>\n    <tr>\n      <th>9</th>\n      <td>2011</td>\n      <td>$204</td>\n    </tr>\n    <tr>\n      <th>10</th>\n      <td>2010</td>\n      <td>$117</td>\n    </tr>\n    <tr>\n      <th>11</th>\n      <td>2009</td>\n      <td>$112</td>\n    </tr>\n    <tr>\n      <th>12</th>\n      <td>2008</td>\n      <td>$15</td>\n    </tr>\n  </tbody>\n</table>\n</div>"
          },
          "metadata": {}
        }
      ]
    },
    {
      "metadata": {
        "id": "leVfvp4HILPr"
      },
      "cell_type": "markdown",
      "source": [
        "Execute the following line to remove the comma and dollar sign from the `Revenue` column.\n"
      ]
    },
    {
      "metadata": {
        "id": "CdZRRTFFILPr",
        "outputId": "8fd1da4e-c80f-4c8b-c0c6-1b558dd009c8"
      },
      "cell_type": "code",
      "source": [
        "tesla_revenue[\"Revenue\"] = tesla_revenue['Revenue'].str.replace(',|\\$',\"\")"
      ],
      "execution_count": null,
      "outputs": [
        {
          "output_type": "stream",
          "text": "<ipython-input-13-2aef5327de36>:1: FutureWarning: The default value of regex will change from True to False in a future version.\n  tesla_revenue[\"Revenue\"] = tesla_revenue['Revenue'].str.replace(',|\\$',\"\")\n",
          "name": "stderr"
        }
      ]
    },
    {
      "metadata": {
        "id": "kaZsv5w-ILPs"
      },
      "cell_type": "markdown",
      "source": [
        "Execute the following lines to remove an null or empty strings in the Revenue column.\n"
      ]
    },
    {
      "metadata": {
        "id": "y3uHfqZBILPs"
      },
      "cell_type": "code",
      "source": [
        "tesla_revenue.dropna(inplace=True)\n",
        "\n",
        "tesla_revenue = tesla_revenue[tesla_revenue['Revenue'] != \"\"]"
      ],
      "execution_count": null,
      "outputs": []
    },
    {
      "metadata": {
        "id": "hobEJVBRILPt"
      },
      "cell_type": "markdown",
      "source": [
        "Display the last 5 row of the `tesla_revenue` dataframe using the `tail` function. Take a screenshot of the results.\n"
      ]
    },
    {
      "metadata": {
        "id": "Csyk5SZ9ILPt",
        "outputId": "5f9e1cb0-d998-4f43-838b-7d344be2785f"
      },
      "cell_type": "code",
      "source": [
        "tesla_revenue.tail()"
      ],
      "execution_count": null,
      "outputs": [
        {
          "output_type": "execute_result",
          "execution_count": 15,
          "data": {
            "text/plain": "    Date Revenue\n8   2012     413\n9   2011     204\n10  2010     117\n11  2009     112\n12  2008      15",
            "text/html": "<div>\n<style scoped>\n    .dataframe tbody tr th:only-of-type {\n        vertical-align: middle;\n    }\n\n    .dataframe tbody tr th {\n        vertical-align: top;\n    }\n\n    .dataframe thead th {\n        text-align: right;\n    }\n</style>\n<table border=\"1\" class=\"dataframe\">\n  <thead>\n    <tr style=\"text-align: right;\">\n      <th></th>\n      <th>Date</th>\n      <th>Revenue</th>\n    </tr>\n  </thead>\n  <tbody>\n    <tr>\n      <th>8</th>\n      <td>2012</td>\n      <td>413</td>\n    </tr>\n    <tr>\n      <th>9</th>\n      <td>2011</td>\n      <td>204</td>\n    </tr>\n    <tr>\n      <th>10</th>\n      <td>2010</td>\n      <td>117</td>\n    </tr>\n    <tr>\n      <th>11</th>\n      <td>2009</td>\n      <td>112</td>\n    </tr>\n    <tr>\n      <th>12</th>\n      <td>2008</td>\n      <td>15</td>\n    </tr>\n  </tbody>\n</table>\n</div>"
          },
          "metadata": {}
        }
      ]
    },
    {
      "metadata": {
        "id": "1Ga3DhnaILPu"
      },
      "cell_type": "markdown",
      "source": [
        "## Question 3: Use yfinance to Extract Stock Data\n"
      ]
    },
    {
      "metadata": {
        "id": "Klx7tsPlILPu"
      },
      "cell_type": "markdown",
      "source": [
        "Using the `Ticker` function enter the ticker symbol of the stock we want to extract data on to create a ticker object. The stock is GameStop and its ticker symbol is `GME`.\n"
      ]
    },
    {
      "metadata": {
        "id": "uv_gZwLDILPu"
      },
      "cell_type": "code",
      "source": [
        "gamestop=yf.Ticker('GME')"
      ],
      "execution_count": null,
      "outputs": []
    },
    {
      "metadata": {
        "id": "jA_GCEfqILPv"
      },
      "cell_type": "markdown",
      "source": [
        "Using the ticker object and the function `history` extract stock information and save it in a dataframe named `gme_data`. Set the `period` parameter to `max` so we get information for the maximum amount of time.\n"
      ]
    },
    {
      "metadata": {
        "id": "OHO02yaMILPv",
        "outputId": "1928cf48-b786-4f77-e8d4-f6f1e41b3781"
      },
      "cell_type": "code",
      "source": [
        "gme_data=gamestop.history(peroid='max')\n",
        "gme_data"
      ],
      "execution_count": null,
      "outputs": [
        {
          "output_type": "execute_result",
          "execution_count": 17,
          "data": {
            "text/plain": "                  Open        High         Low       Close   Volume  \\\nDate                                                                  \n2021-09-02  213.860001  214.800003  206.300003  213.520004  1852000   \n2021-09-03  212.050003  216.270004  198.839996  202.750000  2658600   \n2021-09-07  206.250000  209.899994  196.100006  199.000000  2496300   \n2021-09-08  201.860001  206.880005  190.679993  198.800003  5173600   \n2021-09-09  180.089996  202.000000  178.000000  199.179993  7511500   \n2021-09-10  198.410004  202.160004  190.000000  190.410004  3037000   \n2021-09-13  193.750000  208.880005  191.500000  203.399994  4334100   \n2021-09-14  200.649994  204.619995  195.000000  199.240005  2141600   \n2021-09-15  197.000000  204.869995  193.750000  204.520004  2310400   \n2021-09-16  202.330002  216.550003  201.149994  206.369995  3058200   \n2021-09-17  208.020004  212.490005  200.779999  204.970001  3945900   \n2021-09-20  200.000000  202.850006  184.550003  192.199997  3941800   \n2021-09-21  199.360001  199.360001  186.000000  189.949997  2633800   \n2021-09-22  189.639999  193.500000  186.289993  190.139999  2256600   \n2021-09-23  192.330002  195.750000  190.600006  191.240005  1682300   \n2021-09-24  191.000000  191.720001  184.110001  185.160004  1685800   \n2021-09-27  185.919998  192.050003  185.869995  189.479996  1470100   \n2021-09-28  188.000000  190.809998  178.000000  178.600006  1770500   \n2021-09-29  180.089996  184.479996  174.610001  175.919998  1899900   \n2021-09-30  175.000000  185.449997  166.789993  175.470001  3170700   \n2021-10-01  179.399994  179.490005  172.250000  176.910004  1539252   \n\n            Dividends  Stock Splits  \nDate                                 \n2021-09-02          0             0  \n2021-09-03          0             0  \n2021-09-07          0             0  \n2021-09-08          0             0  \n2021-09-09          0             0  \n2021-09-10          0             0  \n2021-09-13          0             0  \n2021-09-14          0             0  \n2021-09-15          0             0  \n2021-09-16          0             0  \n2021-09-17          0             0  \n2021-09-20          0             0  \n2021-09-21          0             0  \n2021-09-22          0             0  \n2021-09-23          0             0  \n2021-09-24          0             0  \n2021-09-27          0             0  \n2021-09-28          0             0  \n2021-09-29          0             0  \n2021-09-30          0             0  \n2021-10-01          0             0  ",
            "text/html": "<div>\n<style scoped>\n    .dataframe tbody tr th:only-of-type {\n        vertical-align: middle;\n    }\n\n    .dataframe tbody tr th {\n        vertical-align: top;\n    }\n\n    .dataframe thead th {\n        text-align: right;\n    }\n</style>\n<table border=\"1\" class=\"dataframe\">\n  <thead>\n    <tr style=\"text-align: right;\">\n      <th></th>\n      <th>Open</th>\n      <th>High</th>\n      <th>Low</th>\n      <th>Close</th>\n      <th>Volume</th>\n      <th>Dividends</th>\n      <th>Stock Splits</th>\n    </tr>\n    <tr>\n      <th>Date</th>\n      <th></th>\n      <th></th>\n      <th></th>\n      <th></th>\n      <th></th>\n      <th></th>\n      <th></th>\n    </tr>\n  </thead>\n  <tbody>\n    <tr>\n      <th>2021-09-02</th>\n      <td>213.860001</td>\n      <td>214.800003</td>\n      <td>206.300003</td>\n      <td>213.520004</td>\n      <td>1852000</td>\n      <td>0</td>\n      <td>0</td>\n    </tr>\n    <tr>\n      <th>2021-09-03</th>\n      <td>212.050003</td>\n      <td>216.270004</td>\n      <td>198.839996</td>\n      <td>202.750000</td>\n      <td>2658600</td>\n      <td>0</td>\n      <td>0</td>\n    </tr>\n    <tr>\n      <th>2021-09-07</th>\n      <td>206.250000</td>\n      <td>209.899994</td>\n      <td>196.100006</td>\n      <td>199.000000</td>\n      <td>2496300</td>\n      <td>0</td>\n      <td>0</td>\n    </tr>\n    <tr>\n      <th>2021-09-08</th>\n      <td>201.860001</td>\n      <td>206.880005</td>\n      <td>190.679993</td>\n      <td>198.800003</td>\n      <td>5173600</td>\n      <td>0</td>\n      <td>0</td>\n    </tr>\n    <tr>\n      <th>2021-09-09</th>\n      <td>180.089996</td>\n      <td>202.000000</td>\n      <td>178.000000</td>\n      <td>199.179993</td>\n      <td>7511500</td>\n      <td>0</td>\n      <td>0</td>\n    </tr>\n    <tr>\n      <th>2021-09-10</th>\n      <td>198.410004</td>\n      <td>202.160004</td>\n      <td>190.000000</td>\n      <td>190.410004</td>\n      <td>3037000</td>\n      <td>0</td>\n      <td>0</td>\n    </tr>\n    <tr>\n      <th>2021-09-13</th>\n      <td>193.750000</td>\n      <td>208.880005</td>\n      <td>191.500000</td>\n      <td>203.399994</td>\n      <td>4334100</td>\n      <td>0</td>\n      <td>0</td>\n    </tr>\n    <tr>\n      <th>2021-09-14</th>\n      <td>200.649994</td>\n      <td>204.619995</td>\n      <td>195.000000</td>\n      <td>199.240005</td>\n      <td>2141600</td>\n      <td>0</td>\n      <td>0</td>\n    </tr>\n    <tr>\n      <th>2021-09-15</th>\n      <td>197.000000</td>\n      <td>204.869995</td>\n      <td>193.750000</td>\n      <td>204.520004</td>\n      <td>2310400</td>\n      <td>0</td>\n      <td>0</td>\n    </tr>\n    <tr>\n      <th>2021-09-16</th>\n      <td>202.330002</td>\n      <td>216.550003</td>\n      <td>201.149994</td>\n      <td>206.369995</td>\n      <td>3058200</td>\n      <td>0</td>\n      <td>0</td>\n    </tr>\n    <tr>\n      <th>2021-09-17</th>\n      <td>208.020004</td>\n      <td>212.490005</td>\n      <td>200.779999</td>\n      <td>204.970001</td>\n      <td>3945900</td>\n      <td>0</td>\n      <td>0</td>\n    </tr>\n    <tr>\n      <th>2021-09-20</th>\n      <td>200.000000</td>\n      <td>202.850006</td>\n      <td>184.550003</td>\n      <td>192.199997</td>\n      <td>3941800</td>\n      <td>0</td>\n      <td>0</td>\n    </tr>\n    <tr>\n      <th>2021-09-21</th>\n      <td>199.360001</td>\n      <td>199.360001</td>\n      <td>186.000000</td>\n      <td>189.949997</td>\n      <td>2633800</td>\n      <td>0</td>\n      <td>0</td>\n    </tr>\n    <tr>\n      <th>2021-09-22</th>\n      <td>189.639999</td>\n      <td>193.500000</td>\n      <td>186.289993</td>\n      <td>190.139999</td>\n      <td>2256600</td>\n      <td>0</td>\n      <td>0</td>\n    </tr>\n    <tr>\n      <th>2021-09-23</th>\n      <td>192.330002</td>\n      <td>195.750000</td>\n      <td>190.600006</td>\n      <td>191.240005</td>\n      <td>1682300</td>\n      <td>0</td>\n      <td>0</td>\n    </tr>\n    <tr>\n      <th>2021-09-24</th>\n      <td>191.000000</td>\n      <td>191.720001</td>\n      <td>184.110001</td>\n      <td>185.160004</td>\n      <td>1685800</td>\n      <td>0</td>\n      <td>0</td>\n    </tr>\n    <tr>\n      <th>2021-09-27</th>\n      <td>185.919998</td>\n      <td>192.050003</td>\n      <td>185.869995</td>\n      <td>189.479996</td>\n      <td>1470100</td>\n      <td>0</td>\n      <td>0</td>\n    </tr>\n    <tr>\n      <th>2021-09-28</th>\n      <td>188.000000</td>\n      <td>190.809998</td>\n      <td>178.000000</td>\n      <td>178.600006</td>\n      <td>1770500</td>\n      <td>0</td>\n      <td>0</td>\n    </tr>\n    <tr>\n      <th>2021-09-29</th>\n      <td>180.089996</td>\n      <td>184.479996</td>\n      <td>174.610001</td>\n      <td>175.919998</td>\n      <td>1899900</td>\n      <td>0</td>\n      <td>0</td>\n    </tr>\n    <tr>\n      <th>2021-09-30</th>\n      <td>175.000000</td>\n      <td>185.449997</td>\n      <td>166.789993</td>\n      <td>175.470001</td>\n      <td>3170700</td>\n      <td>0</td>\n      <td>0</td>\n    </tr>\n    <tr>\n      <th>2021-10-01</th>\n      <td>179.399994</td>\n      <td>179.490005</td>\n      <td>172.250000</td>\n      <td>176.910004</td>\n      <td>1539252</td>\n      <td>0</td>\n      <td>0</td>\n    </tr>\n  </tbody>\n</table>\n</div>"
          },
          "metadata": {}
        }
      ]
    },
    {
      "metadata": {
        "id": "_HXPY84WILPv"
      },
      "cell_type": "markdown",
      "source": [
        "**Reset the index** using the `reset_index(inplace=True)` function on the gme_data DataFrame and display the first five rows of the `gme_data` dataframe using the `head` function. Take a screenshot of the results and code from the beginning of Question 3 to the results below.\n"
      ]
    },
    {
      "metadata": {
        "id": "st630G86ILPw",
        "outputId": "fae115d3-b2a0-4a17-dd4d-a5ff170ee2be"
      },
      "cell_type": "code",
      "source": [
        "gme_data.reset_index(inplace=True)\n",
        "gme_data.head()"
      ],
      "execution_count": null,
      "outputs": [
        {
          "output_type": "execute_result",
          "execution_count": 18,
          "data": {
            "text/plain": "        Date        Open        High         Low       Close   Volume  \\\n0 2021-09-02  213.860001  214.800003  206.300003  213.520004  1852000   \n1 2021-09-03  212.050003  216.270004  198.839996  202.750000  2658600   \n2 2021-09-07  206.250000  209.899994  196.100006  199.000000  2496300   \n3 2021-09-08  201.860001  206.880005  190.679993  198.800003  5173600   \n4 2021-09-09  180.089996  202.000000  178.000000  199.179993  7511500   \n\n   Dividends  Stock Splits  \n0          0             0  \n1          0             0  \n2          0             0  \n3          0             0  \n4          0             0  ",
            "text/html": "<div>\n<style scoped>\n    .dataframe tbody tr th:only-of-type {\n        vertical-align: middle;\n    }\n\n    .dataframe tbody tr th {\n        vertical-align: top;\n    }\n\n    .dataframe thead th {\n        text-align: right;\n    }\n</style>\n<table border=\"1\" class=\"dataframe\">\n  <thead>\n    <tr style=\"text-align: right;\">\n      <th></th>\n      <th>Date</th>\n      <th>Open</th>\n      <th>High</th>\n      <th>Low</th>\n      <th>Close</th>\n      <th>Volume</th>\n      <th>Dividends</th>\n      <th>Stock Splits</th>\n    </tr>\n  </thead>\n  <tbody>\n    <tr>\n      <th>0</th>\n      <td>2021-09-02</td>\n      <td>213.860001</td>\n      <td>214.800003</td>\n      <td>206.300003</td>\n      <td>213.520004</td>\n      <td>1852000</td>\n      <td>0</td>\n      <td>0</td>\n    </tr>\n    <tr>\n      <th>1</th>\n      <td>2021-09-03</td>\n      <td>212.050003</td>\n      <td>216.270004</td>\n      <td>198.839996</td>\n      <td>202.750000</td>\n      <td>2658600</td>\n      <td>0</td>\n      <td>0</td>\n    </tr>\n    <tr>\n      <th>2</th>\n      <td>2021-09-07</td>\n      <td>206.250000</td>\n      <td>209.899994</td>\n      <td>196.100006</td>\n      <td>199.000000</td>\n      <td>2496300</td>\n      <td>0</td>\n      <td>0</td>\n    </tr>\n    <tr>\n      <th>3</th>\n      <td>2021-09-08</td>\n      <td>201.860001</td>\n      <td>206.880005</td>\n      <td>190.679993</td>\n      <td>198.800003</td>\n      <td>5173600</td>\n      <td>0</td>\n      <td>0</td>\n    </tr>\n    <tr>\n      <th>4</th>\n      <td>2021-09-09</td>\n      <td>180.089996</td>\n      <td>202.000000</td>\n      <td>178.000000</td>\n      <td>199.179993</td>\n      <td>7511500</td>\n      <td>0</td>\n      <td>0</td>\n    </tr>\n  </tbody>\n</table>\n</div>"
          },
          "metadata": {}
        }
      ]
    },
    {
      "metadata": {
        "id": "GvMk1KgAILPx"
      },
      "cell_type": "markdown",
      "source": [
        "## Question 4: Use Webscraping to Extract GME Revenue Data\n"
      ]
    },
    {
      "metadata": {
        "id": "ntKZGQpvILPx"
      },
      "cell_type": "markdown",
      "source": [
        "Use the `requests` library to download the webpage [https://www.macrotrends.net/stocks/charts/GME/gamestop/revenue](https://www.macrotrends.net/stocks/charts/GME/gamestop/revenue?utm_medium=Exinfluencer&utm_source=Exinfluencer&utm_content=000026UJ&utm_term=10006555&utm_id=NA-SkillsNetwork-Channel-SkillsNetworkCoursesIBMDeveloperSkillsNetworkPY0220ENSkillsNetwork23455606-2021-01-01). Save the text of the response as a variable named `html_data`.\n"
      ]
    },
    {
      "metadata": {
        "id": "8kfY0qcsILPx"
      },
      "cell_type": "code",
      "source": [
        "link='https://www.macrotrends.net/stocks/charts/GME/gamestop/revenue'\n",
        "html_data=requests.get(link).text"
      ],
      "execution_count": null,
      "outputs": []
    },
    {
      "metadata": {
        "id": "2MK-HiiSILPx"
      },
      "cell_type": "markdown",
      "source": [
        "Parse the html data using `beautiful_soup`.\n"
      ]
    },
    {
      "metadata": {
        "id": "-wCO5vZnILPx"
      },
      "cell_type": "code",
      "source": [
        "rv=BeautifulSoup(html_data,'lxml')"
      ],
      "execution_count": null,
      "outputs": []
    },
    {
      "metadata": {
        "id": "q1ZqAQ35ILPy"
      },
      "cell_type": "markdown",
      "source": [
        "Using `BeautifulSoup` or the `read_html` function extract the table with `GameStop Quarterly Revenue` and store it into a dataframe named `gme_revenue`. The dataframe should have columns `Date` and `Revenue`. Make sure the comma and dollar sign is removed from the `Revenue` column using a method similar to what you did in Question 2.\n"
      ]
    },
    {
      "metadata": {
        "id": "OSlyP-ywILPy"
      },
      "cell_type": "markdown",
      "source": [
        "<details><summary>Click here if you need help locating the table</summary>\n",
        "\n",
        "```\n",
        "    \n",
        "Below is the code to isolate the table, you will now need to loop through the rows and columns like in the previous lab\n",
        "    \n",
        "soup.find_all(\"tbody\")[1]\n",
        "    \n",
        "If you want to use the read_html function the table is located at index 1\n",
        "\n",
        "\n",
        "```\n",
        "\n",
        "</details>\n"
      ]
    },
    {
      "metadata": {
        "id": "L3qNNR9_ILPy",
        "outputId": "4682e59b-70dc-476e-bb79-86153b422248"
      },
      "cell_type": "code",
      "source": [
        "gme_revenue = pd.DataFrame(columns=[\"Date\",\"Revenue\"])\n",
        "\n",
        "# First we isolate the body of the table which contains all the information\n",
        "# Then we loop through each row and find all the column values for each row\n",
        "for row in rv.find(\"tbody\").find_all('tr'):\n",
        "    col = row.find_all(\"td\")\n",
        "    date = col[0].text\n",
        "    revenue =col[1].text\n",
        "  \n",
        "    \n",
        "    # Finally we append the data of each row to the table\n",
        "    gme_revenue = gme_revenue.append({\"Date\":date,\"Revenue\":revenue}, ignore_index=True)\n",
        "gme_revenue\n",
        "gme_revenue[\"Revenue\"] = tesla_revenue['Revenue'].str.replace(',|\\$',\"\")"
      ],
      "execution_count": null,
      "outputs": [
        {
          "output_type": "execute_result",
          "execution_count": 35,
          "data": {
            "text/plain": "    Date Revenue\n0   2021  $5,090\n1   2020  $6,466\n2   2019  $8,285\n3   2018  $8,547\n4   2017  $7,965\n5   2016  $9,364\n6   2015  $9,296\n7   2014  $9,040\n8   2013  $8,887\n9   2012  $9,551\n10  2011  $9,474\n11  2010  $9,078\n12  2009  $8,806\n13  2008  $7,094\n14  2007  $5,319\n15  2006  $3,092\n16  2005  $1,843",
            "text/html": "<div>\n<style scoped>\n    .dataframe tbody tr th:only-of-type {\n        vertical-align: middle;\n    }\n\n    .dataframe tbody tr th {\n        vertical-align: top;\n    }\n\n    .dataframe thead th {\n        text-align: right;\n    }\n</style>\n<table border=\"1\" class=\"dataframe\">\n  <thead>\n    <tr style=\"text-align: right;\">\n      <th></th>\n      <th>Date</th>\n      <th>Revenue</th>\n    </tr>\n  </thead>\n  <tbody>\n    <tr>\n      <th>0</th>\n      <td>2021</td>\n      <td>$5,090</td>\n    </tr>\n    <tr>\n      <th>1</th>\n      <td>2020</td>\n      <td>$6,466</td>\n    </tr>\n    <tr>\n      <th>2</th>\n      <td>2019</td>\n      <td>$8,285</td>\n    </tr>\n    <tr>\n      <th>3</th>\n      <td>2018</td>\n      <td>$8,547</td>\n    </tr>\n    <tr>\n      <th>4</th>\n      <td>2017</td>\n      <td>$7,965</td>\n    </tr>\n    <tr>\n      <th>5</th>\n      <td>2016</td>\n      <td>$9,364</td>\n    </tr>\n    <tr>\n      <th>6</th>\n      <td>2015</td>\n      <td>$9,296</td>\n    </tr>\n    <tr>\n      <th>7</th>\n      <td>2014</td>\n      <td>$9,040</td>\n    </tr>\n    <tr>\n      <th>8</th>\n      <td>2013</td>\n      <td>$8,887</td>\n    </tr>\n    <tr>\n      <th>9</th>\n      <td>2012</td>\n      <td>$9,551</td>\n    </tr>\n    <tr>\n      <th>10</th>\n      <td>2011</td>\n      <td>$9,474</td>\n    </tr>\n    <tr>\n      <th>11</th>\n      <td>2010</td>\n      <td>$9,078</td>\n    </tr>\n    <tr>\n      <th>12</th>\n      <td>2009</td>\n      <td>$8,806</td>\n    </tr>\n    <tr>\n      <th>13</th>\n      <td>2008</td>\n      <td>$7,094</td>\n    </tr>\n    <tr>\n      <th>14</th>\n      <td>2007</td>\n      <td>$5,319</td>\n    </tr>\n    <tr>\n      <th>15</th>\n      <td>2006</td>\n      <td>$3,092</td>\n    </tr>\n    <tr>\n      <th>16</th>\n      <td>2005</td>\n      <td>$1,843</td>\n    </tr>\n  </tbody>\n</table>\n</div>"
          },
          "metadata": {}
        }
      ]
    },
    {
      "metadata": {
        "id": "F_hDKBAnILPz"
      },
      "cell_type": "markdown",
      "source": [
        "Display the last five rows of the `gme_revenue` dataframe using the `tail` function. Take a screenshot of the results.\n"
      ]
    },
    {
      "metadata": {
        "id": "nXgIDu42ILPz",
        "outputId": "b72f9875-b0e8-4e3c-adaa-2bcc107c55c0"
      },
      "cell_type": "code",
      "source": [
        "gme_revenue.tail()"
      ],
      "execution_count": null,
      "outputs": [
        {
          "output_type": "execute_result",
          "execution_count": 36,
          "data": {
            "text/plain": "    Date Revenue\n12  2009  $8,806\n13  2008  $7,094\n14  2007  $5,319\n15  2006  $3,092\n16  2005  $1,843",
            "text/html": "<div>\n<style scoped>\n    .dataframe tbody tr th:only-of-type {\n        vertical-align: middle;\n    }\n\n    .dataframe tbody tr th {\n        vertical-align: top;\n    }\n\n    .dataframe thead th {\n        text-align: right;\n    }\n</style>\n<table border=\"1\" class=\"dataframe\">\n  <thead>\n    <tr style=\"text-align: right;\">\n      <th></th>\n      <th>Date</th>\n      <th>Revenue</th>\n    </tr>\n  </thead>\n  <tbody>\n    <tr>\n      <th>12</th>\n      <td>2009</td>\n      <td>$8,806</td>\n    </tr>\n    <tr>\n      <th>13</th>\n      <td>2008</td>\n      <td>$7,094</td>\n    </tr>\n    <tr>\n      <th>14</th>\n      <td>2007</td>\n      <td>$5,319</td>\n    </tr>\n    <tr>\n      <th>15</th>\n      <td>2006</td>\n      <td>$3,092</td>\n    </tr>\n    <tr>\n      <th>16</th>\n      <td>2005</td>\n      <td>$1,843</td>\n    </tr>\n  </tbody>\n</table>\n</div>"
          },
          "metadata": {}
        }
      ]
    },
    {
      "metadata": {
        "id": "b77rl1M7ILP0"
      },
      "cell_type": "markdown",
      "source": [
        "## Question 5: Plot Tesla Stock Graph\n"
      ]
    },
    {
      "metadata": {
        "id": "X2YgAlCVILP0"
      },
      "cell_type": "markdown",
      "source": [
        "Use the `make_graph` function to graph the Tesla Stock Data, also provide a title for the graph. The structure to call the `make_graph` function is `make_graph(tesla_data, tesla_revenue, 'Tesla')`. Note the graph will only show data upto June 2021.\n"
      ]
    },
    {
      "metadata": {
        "colab": {
          "base_uri": "https://localhost:8080/",
          "height": 165
        },
        "id": "RtCvyTTLILP0",
        "outputId": "eb244769-9e2c-4139-bc8c-0b542f3486b4"
      },
      "cell_type": "code",
      "source": [
        "make_graph(tesla_data, tesla_revenue, 'Tesla')"
      ],
      "execution_count": 4,
      "outputs": [
        {
          "output_type": "error",
          "ename": "NameError",
          "evalue": "ignored",
          "traceback": [
            "\u001b[0;31m---------------------------------------------------------------------------\u001b[0m",
            "\u001b[0;31mNameError\u001b[0m                                 Traceback (most recent call last)",
            "\u001b[0;32m<ipython-input-4-2f887f7e5449>\u001b[0m in \u001b[0;36m<module>\u001b[0;34m()\u001b[0m\n\u001b[0;32m----> 1\u001b[0;31m \u001b[0mmake_graph\u001b[0m\u001b[0;34m(\u001b[0m\u001b[0mtesla_data\u001b[0m\u001b[0;34m,\u001b[0m \u001b[0mtesla_revenue\u001b[0m\u001b[0;34m,\u001b[0m \u001b[0;34m'Tesla'\u001b[0m\u001b[0;34m)\u001b[0m\u001b[0;34m\u001b[0m\u001b[0;34m\u001b[0m\u001b[0m\n\u001b[0m",
            "\u001b[0;31mNameError\u001b[0m: name 'make_graph' is not defined"
          ]
        }
      ]
    },
    {
      "metadata": {
        "id": "hBlr-HZ7ILP0"
      },
      "cell_type": "markdown",
      "source": [
        "## Question 6: Plot GameStop Stock Graph\n"
      ]
    },
    {
      "metadata": {
        "id": "dzlnRbbhILP1"
      },
      "cell_type": "markdown",
      "source": [
        "Use the `make_graph` function to graph the GameStop Stock Data, also provide a title for the graph. The structure to call the `make_graph` function is `make_graph(gme_data, gme_revenue, 'GameStop')`. Note the graph will only show data upto June 2021.\n"
      ]
    },
    {
      "metadata": {
        "id": "qrFLxj72ILP1",
        "outputId": "e6ddc9ba-9480-4b59-d401-98db99974f6e"
      },
      "cell_type": "code",
      "source": [
        "make_graph(gme_data, gme_revenue, 'GameStop')"
      ],
      "execution_count": null,
      "outputs": [
        {
          "output_type": "error",
          "ename": "ValueError",
          "evalue": "could not convert string to float: '$5,090'",
          "traceback": [
            "\u001b[0;31m---------------------------------------------------------------------------\u001b[0m",
            "\u001b[0;31mValueError\u001b[0m                                Traceback (most recent call last)",
            "\u001b[0;32m<ipython-input-37-eff003b2809f>\u001b[0m in \u001b[0;36m<module>\u001b[0;34m\u001b[0m\n\u001b[0;32m----> 1\u001b[0;31m \u001b[0mmake_graph\u001b[0m\u001b[0;34m(\u001b[0m\u001b[0mgme_data\u001b[0m\u001b[0;34m,\u001b[0m \u001b[0mgme_revenue\u001b[0m\u001b[0;34m,\u001b[0m \u001b[0;34m'GameStop'\u001b[0m\u001b[0;34m)\u001b[0m\u001b[0;34m\u001b[0m\u001b[0;34m\u001b[0m\u001b[0m\n\u001b[0m",
            "\u001b[0;32m<ipython-input-1-47a2266b7876>\u001b[0m in \u001b[0;36mmake_graph\u001b[0;34m(stock_data, revenue_data, stock)\u001b[0m\n\u001b[1;32m      4\u001b[0m     \u001b[0mrevenue_data_specific\u001b[0m \u001b[0;34m=\u001b[0m \u001b[0mrevenue_data\u001b[0m\u001b[0;34m[\u001b[0m\u001b[0mrevenue_data\u001b[0m\u001b[0;34m.\u001b[0m\u001b[0mDate\u001b[0m \u001b[0;34m<=\u001b[0m \u001b[0;34m'2021-04-30'\u001b[0m\u001b[0;34m]\u001b[0m\u001b[0;34m\u001b[0m\u001b[0;34m\u001b[0m\u001b[0m\n\u001b[1;32m      5\u001b[0m     \u001b[0mfig\u001b[0m\u001b[0;34m.\u001b[0m\u001b[0madd_trace\u001b[0m\u001b[0;34m(\u001b[0m\u001b[0mgo\u001b[0m\u001b[0;34m.\u001b[0m\u001b[0mScatter\u001b[0m\u001b[0;34m(\u001b[0m\u001b[0mx\u001b[0m\u001b[0;34m=\u001b[0m\u001b[0mpd\u001b[0m\u001b[0;34m.\u001b[0m\u001b[0mto_datetime\u001b[0m\u001b[0;34m(\u001b[0m\u001b[0mstock_data_specific\u001b[0m\u001b[0;34m.\u001b[0m\u001b[0mDate\u001b[0m\u001b[0;34m,\u001b[0m \u001b[0minfer_datetime_format\u001b[0m\u001b[0;34m=\u001b[0m\u001b[0;32mTrue\u001b[0m\u001b[0;34m)\u001b[0m\u001b[0;34m,\u001b[0m \u001b[0my\u001b[0m\u001b[0;34m=\u001b[0m\u001b[0mstock_data_specific\u001b[0m\u001b[0;34m.\u001b[0m\u001b[0mClose\u001b[0m\u001b[0;34m.\u001b[0m\u001b[0mastype\u001b[0m\u001b[0;34m(\u001b[0m\u001b[0;34m\"float\"\u001b[0m\u001b[0;34m)\u001b[0m\u001b[0;34m,\u001b[0m \u001b[0mname\u001b[0m\u001b[0;34m=\u001b[0m\u001b[0;34m\"Share Price\"\u001b[0m\u001b[0;34m)\u001b[0m\u001b[0;34m,\u001b[0m \u001b[0mrow\u001b[0m\u001b[0;34m=\u001b[0m\u001b[0;36m1\u001b[0m\u001b[0;34m,\u001b[0m \u001b[0mcol\u001b[0m\u001b[0;34m=\u001b[0m\u001b[0;36m1\u001b[0m\u001b[0;34m)\u001b[0m\u001b[0;34m\u001b[0m\u001b[0;34m\u001b[0m\u001b[0m\n\u001b[0;32m----> 6\u001b[0;31m     \u001b[0mfig\u001b[0m\u001b[0;34m.\u001b[0m\u001b[0madd_trace\u001b[0m\u001b[0;34m(\u001b[0m\u001b[0mgo\u001b[0m\u001b[0;34m.\u001b[0m\u001b[0mScatter\u001b[0m\u001b[0;34m(\u001b[0m\u001b[0mx\u001b[0m\u001b[0;34m=\u001b[0m\u001b[0mpd\u001b[0m\u001b[0;34m.\u001b[0m\u001b[0mto_datetime\u001b[0m\u001b[0;34m(\u001b[0m\u001b[0mrevenue_data_specific\u001b[0m\u001b[0;34m.\u001b[0m\u001b[0mDate\u001b[0m\u001b[0;34m,\u001b[0m \u001b[0minfer_datetime_format\u001b[0m\u001b[0;34m=\u001b[0m\u001b[0;32mTrue\u001b[0m\u001b[0;34m)\u001b[0m\u001b[0;34m,\u001b[0m \u001b[0my\u001b[0m\u001b[0;34m=\u001b[0m\u001b[0mrevenue_data_specific\u001b[0m\u001b[0;34m.\u001b[0m\u001b[0mRevenue\u001b[0m\u001b[0;34m.\u001b[0m\u001b[0mastype\u001b[0m\u001b[0;34m(\u001b[0m\u001b[0;34m\"float\"\u001b[0m\u001b[0;34m)\u001b[0m\u001b[0;34m,\u001b[0m \u001b[0mname\u001b[0m\u001b[0;34m=\u001b[0m\u001b[0;34m\"Revenue\"\u001b[0m\u001b[0;34m)\u001b[0m\u001b[0;34m,\u001b[0m \u001b[0mrow\u001b[0m\u001b[0;34m=\u001b[0m\u001b[0;36m2\u001b[0m\u001b[0;34m,\u001b[0m \u001b[0mcol\u001b[0m\u001b[0;34m=\u001b[0m\u001b[0;36m1\u001b[0m\u001b[0;34m)\u001b[0m\u001b[0;34m\u001b[0m\u001b[0;34m\u001b[0m\u001b[0m\n\u001b[0m\u001b[1;32m      7\u001b[0m     \u001b[0mfig\u001b[0m\u001b[0;34m.\u001b[0m\u001b[0mupdate_xaxes\u001b[0m\u001b[0;34m(\u001b[0m\u001b[0mtitle_text\u001b[0m\u001b[0;34m=\u001b[0m\u001b[0;34m\"Date\"\u001b[0m\u001b[0;34m,\u001b[0m \u001b[0mrow\u001b[0m\u001b[0;34m=\u001b[0m\u001b[0;36m1\u001b[0m\u001b[0;34m,\u001b[0m \u001b[0mcol\u001b[0m\u001b[0;34m=\u001b[0m\u001b[0;36m1\u001b[0m\u001b[0;34m)\u001b[0m\u001b[0;34m\u001b[0m\u001b[0;34m\u001b[0m\u001b[0m\n\u001b[1;32m      8\u001b[0m     \u001b[0mfig\u001b[0m\u001b[0;34m.\u001b[0m\u001b[0mupdate_xaxes\u001b[0m\u001b[0;34m(\u001b[0m\u001b[0mtitle_text\u001b[0m\u001b[0;34m=\u001b[0m\u001b[0;34m\"Date\"\u001b[0m\u001b[0;34m,\u001b[0m \u001b[0mrow\u001b[0m\u001b[0;34m=\u001b[0m\u001b[0;36m2\u001b[0m\u001b[0;34m,\u001b[0m \u001b[0mcol\u001b[0m\u001b[0;34m=\u001b[0m\u001b[0;36m1\u001b[0m\u001b[0;34m)\u001b[0m\u001b[0;34m\u001b[0m\u001b[0;34m\u001b[0m\u001b[0m\n",
            "\u001b[0;32m/opt/conda/envs/Python-3.8-main/lib/python3.8/site-packages/pandas/core/generic.py\u001b[0m in \u001b[0;36mastype\u001b[0;34m(self, dtype, copy, errors)\u001b[0m\n\u001b[1;32m   5875\u001b[0m         \u001b[0;32melse\u001b[0m\u001b[0;34m:\u001b[0m\u001b[0;34m\u001b[0m\u001b[0;34m\u001b[0m\u001b[0m\n\u001b[1;32m   5876\u001b[0m             \u001b[0;31m# else, only a single dtype is given\u001b[0m\u001b[0;34m\u001b[0m\u001b[0;34m\u001b[0m\u001b[0;34m\u001b[0m\u001b[0m\n\u001b[0;32m-> 5877\u001b[0;31m             \u001b[0mnew_data\u001b[0m \u001b[0;34m=\u001b[0m \u001b[0mself\u001b[0m\u001b[0;34m.\u001b[0m\u001b[0m_mgr\u001b[0m\u001b[0;34m.\u001b[0m\u001b[0mastype\u001b[0m\u001b[0;34m(\u001b[0m\u001b[0mdtype\u001b[0m\u001b[0;34m=\u001b[0m\u001b[0mdtype\u001b[0m\u001b[0;34m,\u001b[0m \u001b[0mcopy\u001b[0m\u001b[0;34m=\u001b[0m\u001b[0mcopy\u001b[0m\u001b[0;34m,\u001b[0m \u001b[0merrors\u001b[0m\u001b[0;34m=\u001b[0m\u001b[0merrors\u001b[0m\u001b[0;34m)\u001b[0m\u001b[0;34m\u001b[0m\u001b[0;34m\u001b[0m\u001b[0m\n\u001b[0m\u001b[1;32m   5878\u001b[0m             \u001b[0;32mreturn\u001b[0m \u001b[0mself\u001b[0m\u001b[0;34m.\u001b[0m\u001b[0m_constructor\u001b[0m\u001b[0;34m(\u001b[0m\u001b[0mnew_data\u001b[0m\u001b[0;34m)\u001b[0m\u001b[0;34m.\u001b[0m\u001b[0m__finalize__\u001b[0m\u001b[0;34m(\u001b[0m\u001b[0mself\u001b[0m\u001b[0;34m,\u001b[0m \u001b[0mmethod\u001b[0m\u001b[0;34m=\u001b[0m\u001b[0;34m\"astype\"\u001b[0m\u001b[0;34m)\u001b[0m\u001b[0;34m\u001b[0m\u001b[0;34m\u001b[0m\u001b[0m\n\u001b[1;32m   5879\u001b[0m \u001b[0;34m\u001b[0m\u001b[0m\n",
            "\u001b[0;32m/opt/conda/envs/Python-3.8-main/lib/python3.8/site-packages/pandas/core/internals/managers.py\u001b[0m in \u001b[0;36mastype\u001b[0;34m(self, dtype, copy, errors)\u001b[0m\n\u001b[1;32m    629\u001b[0m         \u001b[0mself\u001b[0m\u001b[0;34m,\u001b[0m \u001b[0mdtype\u001b[0m\u001b[0;34m,\u001b[0m \u001b[0mcopy\u001b[0m\u001b[0;34m:\u001b[0m \u001b[0mbool\u001b[0m \u001b[0;34m=\u001b[0m \u001b[0;32mFalse\u001b[0m\u001b[0;34m,\u001b[0m \u001b[0merrors\u001b[0m\u001b[0;34m:\u001b[0m \u001b[0mstr\u001b[0m \u001b[0;34m=\u001b[0m \u001b[0;34m\"raise\"\u001b[0m\u001b[0;34m\u001b[0m\u001b[0;34m\u001b[0m\u001b[0m\n\u001b[1;32m    630\u001b[0m     ) -> \"BlockManager\":\n\u001b[0;32m--> 631\u001b[0;31m         \u001b[0;32mreturn\u001b[0m \u001b[0mself\u001b[0m\u001b[0;34m.\u001b[0m\u001b[0mapply\u001b[0m\u001b[0;34m(\u001b[0m\u001b[0;34m\"astype\"\u001b[0m\u001b[0;34m,\u001b[0m \u001b[0mdtype\u001b[0m\u001b[0;34m=\u001b[0m\u001b[0mdtype\u001b[0m\u001b[0;34m,\u001b[0m \u001b[0mcopy\u001b[0m\u001b[0;34m=\u001b[0m\u001b[0mcopy\u001b[0m\u001b[0;34m,\u001b[0m \u001b[0merrors\u001b[0m\u001b[0;34m=\u001b[0m\u001b[0merrors\u001b[0m\u001b[0;34m)\u001b[0m\u001b[0;34m\u001b[0m\u001b[0;34m\u001b[0m\u001b[0m\n\u001b[0m\u001b[1;32m    632\u001b[0m \u001b[0;34m\u001b[0m\u001b[0m\n\u001b[1;32m    633\u001b[0m     def convert(\n",
            "\u001b[0;32m/opt/conda/envs/Python-3.8-main/lib/python3.8/site-packages/pandas/core/internals/managers.py\u001b[0m in \u001b[0;36mapply\u001b[0;34m(self, f, align_keys, ignore_failures, **kwargs)\u001b[0m\n\u001b[1;32m    425\u001b[0m                     \u001b[0mapplied\u001b[0m \u001b[0;34m=\u001b[0m \u001b[0mb\u001b[0m\u001b[0;34m.\u001b[0m\u001b[0mapply\u001b[0m\u001b[0;34m(\u001b[0m\u001b[0mf\u001b[0m\u001b[0;34m,\u001b[0m \u001b[0;34m**\u001b[0m\u001b[0mkwargs\u001b[0m\u001b[0;34m)\u001b[0m\u001b[0;34m\u001b[0m\u001b[0;34m\u001b[0m\u001b[0m\n\u001b[1;32m    426\u001b[0m                 \u001b[0;32melse\u001b[0m\u001b[0;34m:\u001b[0m\u001b[0;34m\u001b[0m\u001b[0;34m\u001b[0m\u001b[0m\n\u001b[0;32m--> 427\u001b[0;31m                     \u001b[0mapplied\u001b[0m \u001b[0;34m=\u001b[0m \u001b[0mgetattr\u001b[0m\u001b[0;34m(\u001b[0m\u001b[0mb\u001b[0m\u001b[0;34m,\u001b[0m \u001b[0mf\u001b[0m\u001b[0;34m)\u001b[0m\u001b[0;34m(\u001b[0m\u001b[0;34m**\u001b[0m\u001b[0mkwargs\u001b[0m\u001b[0;34m)\u001b[0m\u001b[0;34m\u001b[0m\u001b[0;34m\u001b[0m\u001b[0m\n\u001b[0m\u001b[1;32m    428\u001b[0m             \u001b[0;32mexcept\u001b[0m \u001b[0;34m(\u001b[0m\u001b[0mTypeError\u001b[0m\u001b[0;34m,\u001b[0m \u001b[0mNotImplementedError\u001b[0m\u001b[0;34m)\u001b[0m\u001b[0;34m:\u001b[0m\u001b[0;34m\u001b[0m\u001b[0;34m\u001b[0m\u001b[0m\n\u001b[1;32m    429\u001b[0m                 \u001b[0;32mif\u001b[0m \u001b[0;32mnot\u001b[0m \u001b[0mignore_failures\u001b[0m\u001b[0;34m:\u001b[0m\u001b[0;34m\u001b[0m\u001b[0;34m\u001b[0m\u001b[0m\n",
            "\u001b[0;32m/opt/conda/envs/Python-3.8-main/lib/python3.8/site-packages/pandas/core/internals/blocks.py\u001b[0m in \u001b[0;36mastype\u001b[0;34m(self, dtype, copy, errors)\u001b[0m\n\u001b[1;32m    671\u001b[0m             \u001b[0mvals1d\u001b[0m \u001b[0;34m=\u001b[0m \u001b[0mvalues\u001b[0m\u001b[0;34m.\u001b[0m\u001b[0mravel\u001b[0m\u001b[0;34m(\u001b[0m\u001b[0;34m)\u001b[0m\u001b[0;34m\u001b[0m\u001b[0;34m\u001b[0m\u001b[0m\n\u001b[1;32m    672\u001b[0m             \u001b[0;32mtry\u001b[0m\u001b[0;34m:\u001b[0m\u001b[0;34m\u001b[0m\u001b[0;34m\u001b[0m\u001b[0m\n\u001b[0;32m--> 673\u001b[0;31m                 \u001b[0mvalues\u001b[0m \u001b[0;34m=\u001b[0m \u001b[0mastype_nansafe\u001b[0m\u001b[0;34m(\u001b[0m\u001b[0mvals1d\u001b[0m\u001b[0;34m,\u001b[0m \u001b[0mdtype\u001b[0m\u001b[0;34m,\u001b[0m \u001b[0mcopy\u001b[0m\u001b[0;34m=\u001b[0m\u001b[0;32mTrue\u001b[0m\u001b[0;34m)\u001b[0m\u001b[0;34m\u001b[0m\u001b[0;34m\u001b[0m\u001b[0m\n\u001b[0m\u001b[1;32m    674\u001b[0m             \u001b[0;32mexcept\u001b[0m \u001b[0;34m(\u001b[0m\u001b[0mValueError\u001b[0m\u001b[0;34m,\u001b[0m \u001b[0mTypeError\u001b[0m\u001b[0;34m)\u001b[0m\u001b[0;34m:\u001b[0m\u001b[0;34m\u001b[0m\u001b[0;34m\u001b[0m\u001b[0m\n\u001b[1;32m    675\u001b[0m                 \u001b[0;31m# e.g. astype_nansafe can fail on object-dtype of strings\u001b[0m\u001b[0;34m\u001b[0m\u001b[0;34m\u001b[0m\u001b[0;34m\u001b[0m\u001b[0m\n",
            "\u001b[0;32m/opt/conda/envs/Python-3.8-main/lib/python3.8/site-packages/pandas/core/dtypes/cast.py\u001b[0m in \u001b[0;36mastype_nansafe\u001b[0;34m(arr, dtype, copy, skipna)\u001b[0m\n\u001b[1;32m   1095\u001b[0m     \u001b[0;32mif\u001b[0m \u001b[0mcopy\u001b[0m \u001b[0;32mor\u001b[0m \u001b[0mis_object_dtype\u001b[0m\u001b[0;34m(\u001b[0m\u001b[0marr\u001b[0m\u001b[0;34m)\u001b[0m \u001b[0;32mor\u001b[0m \u001b[0mis_object_dtype\u001b[0m\u001b[0;34m(\u001b[0m\u001b[0mdtype\u001b[0m\u001b[0;34m)\u001b[0m\u001b[0;34m:\u001b[0m\u001b[0;34m\u001b[0m\u001b[0;34m\u001b[0m\u001b[0m\n\u001b[1;32m   1096\u001b[0m         \u001b[0;31m# Explicit copy, or required since NumPy can't view from / to object.\u001b[0m\u001b[0;34m\u001b[0m\u001b[0;34m\u001b[0m\u001b[0;34m\u001b[0m\u001b[0m\n\u001b[0;32m-> 1097\u001b[0;31m         \u001b[0;32mreturn\u001b[0m \u001b[0marr\u001b[0m\u001b[0;34m.\u001b[0m\u001b[0mastype\u001b[0m\u001b[0;34m(\u001b[0m\u001b[0mdtype\u001b[0m\u001b[0;34m,\u001b[0m \u001b[0mcopy\u001b[0m\u001b[0;34m=\u001b[0m\u001b[0;32mTrue\u001b[0m\u001b[0;34m)\u001b[0m\u001b[0;34m\u001b[0m\u001b[0;34m\u001b[0m\u001b[0m\n\u001b[0m\u001b[1;32m   1098\u001b[0m \u001b[0;34m\u001b[0m\u001b[0m\n\u001b[1;32m   1099\u001b[0m     \u001b[0;32mreturn\u001b[0m \u001b[0marr\u001b[0m\u001b[0;34m.\u001b[0m\u001b[0mview\u001b[0m\u001b[0;34m(\u001b[0m\u001b[0mdtype\u001b[0m\u001b[0;34m)\u001b[0m\u001b[0;34m\u001b[0m\u001b[0;34m\u001b[0m\u001b[0m\n",
            "\u001b[0;31mValueError\u001b[0m: could not convert string to float: '$5,090'"
          ]
        }
      ]
    }
  ],
  "metadata": {
    "kernelspec": {
      "name": "python3",
      "display_name": "Python 3.8",
      "language": "python"
    },
    "language_info": {
      "name": "python",
      "version": "3.8.11",
      "mimetype": "text/x-python",
      "codemirror_mode": {
        "name": "ipython",
        "version": 3
      },
      "pygments_lexer": "ipython3",
      "nbconvert_exporter": "python",
      "file_extension": ".py"
    },
    "colab": {
      "name": "Webscraping Stock Data 2.ipynb",
      "provenance": []
    }
  },
  "nbformat": 4,
  "nbformat_minor": 0
}