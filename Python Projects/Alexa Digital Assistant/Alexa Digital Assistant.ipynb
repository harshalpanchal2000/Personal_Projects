{
 "cells": [
  {
   "cell_type": "code",
   "execution_count": 2,
   "id": "0d798d55",
   "metadata": {},
   "outputs": [
    {
     "name": "stdout",
     "output_type": "stream",
     "text": [
      "Collecting SpeechRecognition\n",
      "  Downloading SpeechRecognition-3.8.1-py2.py3-none-any.whl (32.8 MB)\n",
      "     ---------------------------------------- 32.8/32.8 MB 1.4 MB/s eta 0:00:00\n",
      "Installing collected packages: SpeechRecognition\n",
      "Successfully installed SpeechRecognition-3.8.1\n"
     ]
    },
    {
     "name": "stderr",
     "output_type": "stream",
     "text": [
      "WARNING: Ignoring invalid distribution -illow (c:\\users\\vijay\\appdata\\local\\programs\\python\\python38\\lib\\site-packages)\n",
      "WARNING: Ignoring invalid distribution -illow (c:\\users\\vijay\\appdata\\local\\programs\\python\\python38\\lib\\site-packages)\n",
      "WARNING: Ignoring invalid distribution -illow (c:\\users\\vijay\\appdata\\local\\programs\\python\\python38\\lib\\site-packages)\n",
      "WARNING: Ignoring invalid distribution -illow (c:\\users\\vijay\\appdata\\local\\programs\\python\\python38\\lib\\site-packages)\n",
      "WARNING: Ignoring invalid distribution -illow (c:\\users\\vijay\\appdata\\local\\programs\\python\\python38\\lib\\site-packages)\n",
      "WARNING: Ignoring invalid distribution -illow (c:\\users\\vijay\\appdata\\local\\programs\\python\\python38\\lib\\site-packages)\n"
     ]
    }
   ],
   "source": [
    "!pip install SpeechRecognition"
   ]
  },
  {
   "cell_type": "code",
   "execution_count": 13,
   "id": "9a358c17",
   "metadata": {},
   "outputs": [
    {
     "name": "stdout",
     "output_type": "stream",
     "text": [
      "Collecting PyAudio\n",
      "  Downloading PyAudio-0.2.11.tar.gz (37 kB)\n",
      "  Preparing metadata (setup.py): started\n",
      "  Preparing metadata (setup.py): finished with status 'done'\n",
      "Using legacy 'setup.py install' for PyAudio, since package 'wheel' is not installed."
     ]
    },
    {
     "name": "stderr",
     "output_type": "stream",
     "text": [
      "WARNING: Ignoring invalid distribution -illow (c:\\users\\vijay\\appdata\\local\\programs\\python\\python38\\lib\\site-packages)\n",
      "WARNING: Ignoring invalid distribution -illow (c:\\users\\vijay\\appdata\\local\\programs\\python\\python38\\lib\\site-packages)\n",
      "WARNING: Ignoring invalid distribution -illow (c:\\users\\vijay\\appdata\\local\\programs\\python\\python38\\lib\\site-packages)\n",
      "  error: subprocess-exited-with-error\n",
      "  \n",
      "  Running setup.py install for PyAudio did not run successfully.\n",
      "  exit code: 1\n",
      "  \n",
      "  [9 lines of output]\n",
      "  running install\n",
      "  running build\n",
      "  running build_py\n",
      "  creating build\n",
      "  creating build\\lib.win-amd64-3.8\n",
      "  copying src\\pyaudio.py -> build\\lib.win-amd64-3.8\n",
      "  running build_ext\n",
      "  building '_portaudio' extension\n",
      "  error: Microsoft Visual C++ 14.0 or greater is required. Get it with \"Microsoft C++ Build Tools\": https://visualstudio.microsoft.com/visual-cpp-build-tools/\n",
      "  [end of output]\n",
      "  \n",
      "  note: This error originates from a subprocess, and is likely not a problem with pip.\n",
      "error: legacy-install-failure\n",
      "\n",
      "Encountered error while trying to install package.\n",
      "\n",
      "PyAudio\n",
      "\n",
      "note: This is an issue with the package mentioned above, not pip.\n",
      "hint: See above for output from the failure.\n",
      "WARNING: Ignoring invalid distribution -illow (c:\\users\\vijay\\appdata\\local\\programs\\python\\python38\\lib\\site-packages)\n",
      "WARNING: Ignoring invalid distribution -illow (c:\\users\\vijay\\appdata\\local\\programs\\python\\python38\\lib\\site-packages)\n"
     ]
    },
    {
     "name": "stdout",
     "output_type": "stream",
     "text": [
      "\n",
      "Installing collected packages: PyAudio\n",
      "  Running setup.py install for PyAudio: started\n",
      "  Running setup.py install for PyAudio: finished with status 'error'\n"
     ]
    }
   ],
   "source": [
    "!pip install PyAudio"
   ]
  },
  {
   "cell_type": "code",
   "execution_count": 4,
   "id": "ee97d912",
   "metadata": {},
   "outputs": [
    {
     "name": "stdout",
     "output_type": "stream",
     "text": [
      "Collecting gTTS\n",
      "  Downloading gTTS-2.2.4-py3-none-any.whl (26 kB)\n",
      "Requirement already satisfied: six in c:\\users\\vijay\\appdata\\local\\programs\\python\\python38\\lib\\site-packages (from gTTS) (1.16.0)\n",
      "Requirement already satisfied: click in c:\\users\\vijay\\appdata\\local\\programs\\python\\python38\\lib\\site-packages (from gTTS) (8.0.4)\n",
      "Requirement already satisfied: requests in c:\\users\\vijay\\appdata\\local\\programs\\python\\python38\\lib\\site-packages (from gTTS) (2.27.1)\n",
      "Requirement already satisfied: colorama in c:\\users\\vijay\\appdata\\local\\programs\\python\\python38\\lib\\site-packages (from click->gTTS) (0.4.4)\n",
      "Requirement already satisfied: urllib3<1.27,>=1.21.1 in c:\\users\\vijay\\appdata\\local\\programs\\python\\python38\\lib\\site-packages (from requests->gTTS) (1.26.8)\n",
      "Requirement already satisfied: charset-normalizer~=2.0.0 in c:\\users\\vijay\\appdata\\local\\programs\\python\\python38\\lib\\site-packages (from requests->gTTS) (2.0.10)\n",
      "Requirement already satisfied: idna<4,>=2.5 in c:\\users\\vijay\\appdata\\local\\programs\\python\\python38\\lib\\site-packages (from requests->gTTS) (3.3)\n",
      "Requirement already satisfied: certifi>=2017.4.17 in c:\\users\\vijay\\appdata\\local\\programs\\python\\python38\\lib\\site-packages (from requests->gTTS) (2021.10.8)\n",
      "Installing collected packages: gTTS\n",
      "Successfully installed gTTS-2.2.4\n"
     ]
    },
    {
     "name": "stderr",
     "output_type": "stream",
     "text": [
      "WARNING: Ignoring invalid distribution -illow (c:\\users\\vijay\\appdata\\local\\programs\\python\\python38\\lib\\site-packages)\n",
      "WARNING: Ignoring invalid distribution -illow (c:\\users\\vijay\\appdata\\local\\programs\\python\\python38\\lib\\site-packages)\n",
      "WARNING: Ignoring invalid distribution -illow (c:\\users\\vijay\\appdata\\local\\programs\\python\\python38\\lib\\site-packages)\n",
      "WARNING: Ignoring invalid distribution -illow (c:\\users\\vijay\\appdata\\local\\programs\\python\\python38\\lib\\site-packages)\n",
      "WARNING: Ignoring invalid distribution -illow (c:\\users\\vijay\\appdata\\local\\programs\\python\\python38\\lib\\site-packages)\n",
      "WARNING: Ignoring invalid distribution -illow (c:\\users\\vijay\\appdata\\local\\programs\\python\\python38\\lib\\site-packages)\n"
     ]
    }
   ],
   "source": [
    "!pip install gTTS"
   ]
  },
  {
   "cell_type": "code",
   "execution_count": 5,
   "id": "6dada5e9",
   "metadata": {},
   "outputs": [],
   "source": [
    "import speech_recognition as sr\n",
    "import os\n",
    "from gtts import gTTS\n",
    "import datetime\n",
    "import warnings\n",
    "import calendar\n",
    "import random\n",
    "import wikipedia"
   ]
  },
  {
   "cell_type": "code",
   "execution_count": 6,
   "id": "b73377a7",
   "metadata": {},
   "outputs": [],
   "source": [
    "#To Record audio and return it into a string\n",
    "def recordAudio():\n",
    "    r = sr.Recognizer()\n",
    "    with sr.Microphone() as source:\n",
    "        print(\"please say something\")\n",
    "        audio = r.listen(source)\n",
    "    #use google speach recognition\n",
    "    data = ''\n",
    "    try:\n",
    "        data = r.recognize_google(audio)\n",
    "        print('you said '+ data)\n",
    "    except sr.UnknownValueError:\n",
    "        print(\"Sorry I failed to understand\")\n",
    "    except sr.RequestError as e:\n",
    "        print(\"Request results from google\" + e)\n",
    "    return data"
   ]
  },
  {
   "cell_type": "code",
   "execution_count": 8,
   "id": "158d6d9a",
   "metadata": {},
   "outputs": [],
   "source": [
    "#A function to get the virtual assistant respond\n",
    "def assistant(text):\n",
    "    print(text)\n",
    "    # convert the text to speech\n",
    "    myObject = gTTS(text=text, lang='en', slow=False)\n",
    "    # save the converted audio to a file\n",
    "    myObject.save('assistant.mp3')\n",
    "    # play the converted file\n",
    "    os.system('start assistant.mp3')\n",
    "# A functions for wake words\n",
    "def wakewords(text):\n",
    "    wake = ['hey computer', 'okay computer', 'hey aman']\n",
    "    text = text.lower() # converting the text to all lower case\n",
    "    # check if the user command contains wake words\n",
    "    for phrase in wake:\n",
    "        if phrase in text:\n",
    "            return True\n",
    "    return False"
   ]
  },
  {
   "cell_type": "code",
   "execution_count": 9,
   "id": "0f394ee6",
   "metadata": {},
   "outputs": [],
   "source": [
    "#A function to get the current date, time and month\n",
    "def getDate():\n",
    "    now = datetime.datetime.now()\n",
    "    date = datetime.datetime.today()\n",
    "    weekday = calendar.day_name[date.weekday()]\n",
    "    month = now.month\n",
    "    daynum = now.day\n",
    "    # A list of months\n",
    "    months = [\"January\", \"February\", \"March\",\n",
    "              \"April\", \"May\", \"June\", \"July\",\n",
    "              \"August\", \"September\", \"October\",\n",
    "              \"November\", \"December\"]\n",
    "    ordinal = ['1st', '2nd', '3rd',\n",
    "               '4th', '5th', '6th',\n",
    "               '7th', '8th','9th',\n",
    "               '10th', '11th', '12th',\n",
    "               '13th', '14th', '15th',\n",
    "               '16th', '17th', '18th',\n",
    "               '19th', '20th', '21st',\n",
    "               '22nd', '23rd','24th',\n",
    "               '25th', '26th', '27th',\n",
    "               '28th', '29th', '30th','31st']\n",
    "    return 'Today is '+weekday+' '+ months[month - 1]+ ' the '+ ordinal[daynum - 1] +'.'"
   ]
  },
  {
   "cell_type": "code",
   "execution_count": 10,
   "id": "5cd521b2",
   "metadata": {},
   "outputs": [],
   "source": [
    "#A function to create Greetings\n",
    "def greetings(text):\n",
    "    greetings_input = ['hi', 'hey', 'hola', 'greetings', 'wassup', 'hello']\n",
    "    greetings_response = ['howdy', 'whats up', 'hello', 'hey there']\n",
    "    for word in text.split():\n",
    "        if word.lower() in greetings_input:\n",
    "            return random.choice(greetings_response) + \".\"\n",
    "    return ''"
   ]
  },
  {
   "cell_type": "code",
   "execution_count": 11,
   "id": "016bd711",
   "metadata": {},
   "outputs": [],
   "source": [
    "#A function to get a persons first and last name from the text\n",
    "def getPerson(text):\n",
    "    wordlist =  text.split()\n",
    "    for i in range(0, len(wordlist)):\n",
    "        if i + 3 <= len(wordlist) - 1 and wordlist[i].lower() == 'who' and wordlist[i+1].lower() == \"is\":\n",
    "            return wordlist[i+2] + \" \" + wordlist[i+3]"
   ]
  },
  {
   "cell_type": "code",
   "execution_count": null,
   "id": "84d35975",
   "metadata": {},
   "outputs": [],
   "source": [
    "while True:\n",
    "    text = recordAudio()\n",
    "    response = ' '\n",
    "    if (wakewords(text) == True):\n",
    "        response = response + greetings(text)\n",
    "        if ('date' in text):\n",
    "            get_Date = getDate()\n",
    "            response = response + ' '+get_Date\n",
    "        if ('who is' in text):\n",
    "            person = getPerson(text)\n",
    "            wiki = wikipedia.summary(person, sentences=2)\n",
    "            response = response + ' '+ wiki\n",
    "            assistant(response)"
   ]
  }
 ],
 "metadata": {
  "kernelspec": {
   "display_name": "Python 3 (ipykernel)",
   "language": "python",
   "name": "python3"
  },
  "language_info": {
   "codemirror_mode": {
    "name": "ipython",
    "version": 3
   },
   "file_extension": ".py",
   "mimetype": "text/x-python",
   "name": "python",
   "nbconvert_exporter": "python",
   "pygments_lexer": "ipython3",
   "version": "3.8.10"
  }
 },
 "nbformat": 4,
 "nbformat_minor": 5
}
