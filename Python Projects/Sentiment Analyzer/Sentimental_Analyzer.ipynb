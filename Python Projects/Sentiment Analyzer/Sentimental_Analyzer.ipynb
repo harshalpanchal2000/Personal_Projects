{
  "nbformat": 4,
  "nbformat_minor": 0,
  "metadata": {
    "colab": {
      "name": "Sentimental Analyzer.ipynb",
      "provenance": []
    },
    "kernelspec": {
      "name": "python3",
      "display_name": "Python 3"
    },
    "language_info": {
      "name": "python"
    }
  },
  "cells": [
    {
      "cell_type": "code",
      "execution_count": 11,
      "metadata": {
        "colab": {
          "base_uri": "https://localhost:8080/"
        },
        "id": "iR3L1RwQmcK8",
        "outputId": "6bb5bb55-6cb8-4444-93a6-5ff7adf64dc0"
      },
      "outputs": [
        {
          "output_type": "stream",
          "name": "stdout",
          "text": [
            "Enter your sentence:good story\n",
            "Sentiment(polarity=0.7, subjectivity=0.6000000000000001)\n",
            "\n",
            "Polarity is float which lies in the range of [-1,1] where 1 means positive statement and -1 means a negative statement.\n",
            "Subjective sentences generally refer to personal opinion, emotion or judgment whereas objective refers to factual information\n"
          ]
        }
      ],
      "source": [
        "from textblob import TextBlob\n",
        "x=input(\"Enter your sentence:\")\n",
        "aly=TextBlob(x)\n",
        "y= aly.sentiment\n",
        "print(y)\n",
        "print('\\nPolarity is float which lies in the range of [-1,1] where 1 means positive statement and -1 means a negative statement.\\nSubjective sentences generally refer to personal opinion, emotion or judgment whereas objective refers to factual information')"
      ]
    }
  ]
}